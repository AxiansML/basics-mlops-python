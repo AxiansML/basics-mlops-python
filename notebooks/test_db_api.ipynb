{
 "cells": [
  {
   "cell_type": "code",
   "execution_count": 24,
   "metadata": {},
   "outputs": [],
   "source": [
    "import pandas as pd\n",
    "import os\n",
    "import requests\n",
    "import yaml\n",
    "import matplotlib.pyplot as plt"
   ]
  },
  {
   "cell_type": "code",
   "execution_count": 25,
   "metadata": {},
   "outputs": [
    {
     "data": {
      "text/html": [
       "<div>\n",
       "<style scoped>\n",
       "    .dataframe tbody tr th:only-of-type {\n",
       "        vertical-align: middle;\n",
       "    }\n",
       "\n",
       "    .dataframe tbody tr th {\n",
       "        vertical-align: top;\n",
       "    }\n",
       "\n",
       "    .dataframe thead th {\n",
       "        text-align: right;\n",
       "    }\n",
       "</style>\n",
       "<table border=\"1\" class=\"dataframe\">\n",
       "  <thead>\n",
       "    <tr style=\"text-align: right;\">\n",
       "      <th></th>\n",
       "      <th>X</th>\n",
       "      <th>y</th>\n",
       "    </tr>\n",
       "  </thead>\n",
       "  <tbody>\n",
       "    <tr>\n",
       "      <th>0</th>\n",
       "      <td>49.706449</td>\n",
       "      <td>122.973964</td>\n",
       "    </tr>\n",
       "    <tr>\n",
       "      <th>1</th>\n",
       "      <td>12.525859</td>\n",
       "      <td>15.585690</td>\n",
       "    </tr>\n",
       "    <tr>\n",
       "      <th>2</th>\n",
       "      <td>82.520417</td>\n",
       "      <td>178.759885</td>\n",
       "    </tr>\n",
       "    <tr>\n",
       "      <th>3</th>\n",
       "      <td>59.131192</td>\n",
       "      <td>134.193423</td>\n",
       "    </tr>\n",
       "    <tr>\n",
       "      <th>4</th>\n",
       "      <td>91.219246</td>\n",
       "      <td>208.842205</td>\n",
       "    </tr>\n",
       "    <tr>\n",
       "      <th>...</th>\n",
       "      <td>...</td>\n",
       "      <td>...</td>\n",
       "    </tr>\n",
       "    <tr>\n",
       "      <th>95</th>\n",
       "      <td>15.801725</td>\n",
       "      <td>44.366357</td>\n",
       "    </tr>\n",
       "    <tr>\n",
       "      <th>96</th>\n",
       "      <td>84.280278</td>\n",
       "      <td>175.476124</td>\n",
       "    </tr>\n",
       "    <tr>\n",
       "      <th>97</th>\n",
       "      <td>95.173662</td>\n",
       "      <td>214.342311</td>\n",
       "    </tr>\n",
       "    <tr>\n",
       "      <th>98</th>\n",
       "      <td>16.373628</td>\n",
       "      <td>29.175130</td>\n",
       "    </tr>\n",
       "    <tr>\n",
       "      <th>99</th>\n",
       "      <td>50.201571</td>\n",
       "      <td>105.663842</td>\n",
       "    </tr>\n",
       "  </tbody>\n",
       "</table>\n",
       "<p>100 rows × 2 columns</p>\n",
       "</div>"
      ],
      "text/plain": [
       "            X           y\n",
       "0   49.706449  122.973964\n",
       "1   12.525859   15.585690\n",
       "2   82.520417  178.759885\n",
       "3   59.131192  134.193423\n",
       "4   91.219246  208.842205\n",
       "..        ...         ...\n",
       "95  15.801725   44.366357\n",
       "96  84.280278  175.476124\n",
       "97  95.173662  214.342311\n",
       "98  16.373628   29.175130\n",
       "99  50.201571  105.663842\n",
       "\n",
       "[100 rows x 2 columns]"
      ]
     },
     "execution_count": 25,
     "metadata": {},
     "output_type": "execute_result"
    }
   ],
   "source": [
    "df = pd.read_json(\"../data/dummy.json\")\n",
    "df"
   ]
  },
  {
   "cell_type": "code",
   "execution_count": 26,
   "metadata": {},
   "outputs": [
    {
     "data": {
      "text/plain": [
       "<matplotlib.collections.PathCollection at 0x7fd66186c820>"
      ]
     },
     "execution_count": 26,
     "metadata": {},
     "output_type": "execute_result"
    },
    {
     "data": {
      "image/png": "[encoded data removed]",
      "text/plain": [
       "<Figure size 432x288 with 1 Axes>"
      ]
     },
     "metadata": {
      "needs_background": "light"
     },
     "output_type": "display_data"
    }
   ],
   "source": [
    "plt.scatter(df[\"X\"], df[\"y\"])"
   ]
  },
  {
   "cell_type": "code",
   "execution_count": 34,
   "metadata": {},
   "outputs": [],
   "source": [
    "def create_tf_serving_json(data):\n",
    "    return {\n",
    "        \"inputs\": {name: data[name].tolist() for name in data.keys()}\n",
    "        if isinstance(data, dict)\n",
    "        else data.tolist()\n",
    "    }\n",
    "\n",
    "\n",
    "def score_model(dataset):\n",
    "    url = os.getenv(\"DB_API_URL\")\n",
    "    headers = {\"Authorization\": f'Bearer {os.environ.get(\"DATABRICKS_TOKEN\")}'}\n",
    "    data_json = (\n",
    "        dataset.to_dict(orient=\"split\")\n",
    "        if isinstance(dataset, pd.DataFrame)\n",
    "        else create_tf_serving_json(dataset)\n",
    "    )\n",
    "    response = requests.request(method=\"POST\", headers=headers, url=url, json=data_json)\n",
    "    if response.status_code != 200:\n",
    "        raise Exception(\n",
    "            f\"Request failed with status {response.status_code}, {response.text}\"\n",
    "        )\n",
    "    return response.json()"
   ]
  },
  {
   "cell_type": "code",
   "execution_count": 35,
   "metadata": {},
   "outputs": [
    {
     "data": {
      "text/html": [
       "<div>\n",
       "<style scoped>\n",
       "    .dataframe tbody tr th:only-of-type {\n",
       "        vertical-align: middle;\n",
       "    }\n",
       "\n",
       "    .dataframe tbody tr th {\n",
       "        vertical-align: top;\n",
       "    }\n",
       "\n",
       "    .dataframe thead th {\n",
       "        text-align: right;\n",
       "    }\n",
       "</style>\n",
       "<table border=\"1\" class=\"dataframe\">\n",
       "  <thead>\n",
       "    <tr style=\"text-align: right;\">\n",
       "      <th></th>\n",
       "      <th>X</th>\n",
       "      <th>y</th>\n",
       "      <th>prediction</th>\n",
       "    </tr>\n",
       "  </thead>\n",
       "  <tbody>\n",
       "    <tr>\n",
       "      <th>0</th>\n",
       "      <td>49.706449</td>\n",
       "      <td>122.973964</td>\n",
       "      <td>60.795708</td>\n",
       "    </tr>\n",
       "    <tr>\n",
       "      <th>1</th>\n",
       "      <td>12.525859</td>\n",
       "      <td>15.585690</td>\n",
       "      <td>14.990952</td>\n",
       "    </tr>\n",
       "    <tr>\n",
       "      <th>2</th>\n",
       "      <td>82.520417</td>\n",
       "      <td>178.759885</td>\n",
       "      <td>101.220993</td>\n",
       "    </tr>\n",
       "    <tr>\n",
       "      <th>3</th>\n",
       "      <td>59.131192</td>\n",
       "      <td>134.193423</td>\n",
       "      <td>72.406555</td>\n",
       "    </tr>\n",
       "    <tr>\n",
       "      <th>4</th>\n",
       "      <td>91.219246</td>\n",
       "      <td>208.842205</td>\n",
       "      <td>111.937546</td>\n",
       "    </tr>\n",
       "    <tr>\n",
       "      <th>...</th>\n",
       "      <td>...</td>\n",
       "      <td>...</td>\n",
       "      <td>...</td>\n",
       "    </tr>\n",
       "    <tr>\n",
       "      <th>95</th>\n",
       "      <td>15.801725</td>\n",
       "      <td>44.366357</td>\n",
       "      <td>19.026667</td>\n",
       "    </tr>\n",
       "    <tr>\n",
       "      <th>96</th>\n",
       "      <td>84.280278</td>\n",
       "      <td>175.476124</td>\n",
       "      <td>103.389061</td>\n",
       "    </tr>\n",
       "    <tr>\n",
       "      <th>97</th>\n",
       "      <td>95.173662</td>\n",
       "      <td>214.342311</td>\n",
       "      <td>116.809204</td>\n",
       "    </tr>\n",
       "    <tr>\n",
       "      <th>98</th>\n",
       "      <td>16.373628</td>\n",
       "      <td>29.175130</td>\n",
       "      <td>19.731226</td>\n",
       "    </tr>\n",
       "    <tr>\n",
       "      <th>99</th>\n",
       "      <td>50.201571</td>\n",
       "      <td>105.663842</td>\n",
       "      <td>61.405682</td>\n",
       "    </tr>\n",
       "  </tbody>\n",
       "</table>\n",
       "<p>100 rows × 3 columns</p>\n",
       "</div>"
      ],
      "text/plain": [
       "            X           y  prediction\n",
       "0   49.706449  122.973964   60.795708\n",
       "1   12.525859   15.585690   14.990952\n",
       "2   82.520417  178.759885  101.220993\n",
       "3   59.131192  134.193423   72.406555\n",
       "4   91.219246  208.842205  111.937546\n",
       "..        ...         ...         ...\n",
       "95  15.801725   44.366357   19.026667\n",
       "96  84.280278  175.476124  103.389061\n",
       "97  95.173662  214.342311  116.809204\n",
       "98  16.373628   29.175130   19.731226\n",
       "99  50.201571  105.663842   61.405682\n",
       "\n",
       "[100 rows x 3 columns]"
      ]
     },
     "execution_count": 35,
     "metadata": {},
     "output_type": "execute_result"
    }
   ],
   "source": [
    "df[\"prediction\"] = [d[\"0\"] for d in score_model(df[[\"X\"]])]\n",
    "df"
   ]
  },
  {
   "cell_type": "code",
   "execution_count": 36,
   "metadata": {},
   "outputs": [
    {
     "data": {
      "text/plain": [
       "[<matplotlib.lines.Line2D at 0x7fd661f27ca0>]"
      ]
     },
     "execution_count": 36,
     "metadata": {},
     "output_type": "execute_result"
    },
    {
     "data": {
      "image/png": "[encoded data removed]",
      "text/plain": [
       "<Figure size 432x288 with 1 Axes>"
      ]
     },
     "metadata": {
      "needs_background": "light"
     },
     "output_type": "display_data"
    }
   ],
   "source": [
    "plt.scatter(df[\"X\"], df[\"y\"])\n",
    "plt.plot(df[\"X\"], df[\"prediction\"], \"r\")"
   ]
  }
 ],
 "metadata": {
  "kernelspec": {
   "display_name": "Python 3.9.7 64-bit ('3.9.7')",
   "language": "python",
   "name": "python3"
  },
  "language_info": {
   "codemirror_mode": {
    "name": "ipython",
    "version": 3
   },
   "file_extension": ".py",
   "mimetype": "text/x-python",
   "name": "python",
   "nbconvert_exporter": "python",
   "pygments_lexer": "ipython3",
   "version": "3.9.7"
  },
  "orig_nbformat": 4,
  "vscode": {
   "interpreter": {
    "hash": "8c9b1ea36df2abeee5e31e1a26550fed2942e60a7b7cafc939d11e1708e61337"
   }
  }
 },
 "nbformat": 4,
 "nbformat_minor": 2
}
